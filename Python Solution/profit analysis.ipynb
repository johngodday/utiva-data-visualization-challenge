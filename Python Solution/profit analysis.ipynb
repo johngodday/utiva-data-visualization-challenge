{
 "cells": [
  {
   "cell_type": "code",
   "execution_count": 1,
   "metadata": {},
   "outputs": [],
   "source": [
    "import pandas as pd\n",
    "import numpy as np\n",
    "import warnings \n",
    "warnings.filterwarnings('ignore')\n",
    "\n",
    "import matplotlib.pyplot as plt\n",
    "plt.style.use('seaborn')\n",
    "import seaborn as plt"
   ]
  },
  {
   "cell_type": "code",
   "execution_count": 2,
   "metadata": {},
   "outputs": [
    {
     "data": {
      "text/html": [
       "<div>\n",
       "<style scoped>\n",
       "    .dataframe tbody tr th:only-of-type {\n",
       "        vertical-align: middle;\n",
       "    }\n",
       "\n",
       "    .dataframe tbody tr th {\n",
       "        vertical-align: top;\n",
       "    }\n",
       "\n",
       "    .dataframe thead th {\n",
       "        text-align: right;\n",
       "    }\n",
       "</style>\n",
       "<table border=\"1\" class=\"dataframe\">\n",
       "  <thead>\n",
       "    <tr style=\"text-align: right;\">\n",
       "      <th></th>\n",
       "      <th>SALES_ID</th>\n",
       "      <th>SALES_REP</th>\n",
       "      <th>EMAILS</th>\n",
       "      <th>BRANDS</th>\n",
       "      <th>PLANT_COST</th>\n",
       "      <th>UNIT_PRICE</th>\n",
       "      <th>QUANTITY</th>\n",
       "      <th>COST</th>\n",
       "      <th>PROFIT</th>\n",
       "      <th>COUNTRIES</th>\n",
       "      <th>REGION</th>\n",
       "      <th>MONTHS</th>\n",
       "      <th>YEARS</th>\n",
       "    </tr>\n",
       "  </thead>\n",
       "  <tbody>\n",
       "    <tr>\n",
       "      <th>0</th>\n",
       "      <td>10101</td>\n",
       "      <td>Jardine</td>\n",
       "      <td>jard@gmail.com</td>\n",
       "      <td>trophy</td>\n",
       "      <td>150</td>\n",
       "      <td>200</td>\n",
       "      <td>725</td>\n",
       "      <td>145000</td>\n",
       "      <td>36250</td>\n",
       "      <td>Ghana</td>\n",
       "      <td>Southeast</td>\n",
       "      <td>January</td>\n",
       "      <td>2019</td>\n",
       "    </tr>\n",
       "    <tr>\n",
       "      <th>1</th>\n",
       "      <td>10102</td>\n",
       "      <td>Gill</td>\n",
       "      <td>gillhell@uk.com</td>\n",
       "      <td>budweiser</td>\n",
       "      <td>250</td>\n",
       "      <td>500</td>\n",
       "      <td>815</td>\n",
       "      <td>407500</td>\n",
       "      <td>203750</td>\n",
       "      <td>Nigeria</td>\n",
       "      <td>west</td>\n",
       "      <td>February</td>\n",
       "      <td>2018</td>\n",
       "    </tr>\n",
       "    <tr>\n",
       "      <th>2</th>\n",
       "      <td>10103</td>\n",
       "      <td>Sorvino</td>\n",
       "      <td>sorvi2000@gmail.com</td>\n",
       "      <td>castle lite</td>\n",
       "      <td>180</td>\n",
       "      <td>450</td>\n",
       "      <td>937</td>\n",
       "      <td>421650</td>\n",
       "      <td>252990</td>\n",
       "      <td>Togo</td>\n",
       "      <td>southsouth</td>\n",
       "      <td>March</td>\n",
       "      <td>2018</td>\n",
       "    </tr>\n",
       "  </tbody>\n",
       "</table>\n",
       "</div>"
      ],
      "text/plain": [
       "   SALES_ID SALES_REP               EMAILS       BRANDS  PLANT_COST  \\\n",
       "0     10101   Jardine       jard@gmail.com       trophy         150   \n",
       "1     10102      Gill      gillhell@uk.com    budweiser         250   \n",
       "2     10103   Sorvino  sorvi2000@gmail.com  castle lite         180   \n",
       "\n",
       "   UNIT_PRICE  QUANTITY    COST  PROFIT COUNTRIES     REGION     MONTHS  YEARS  \n",
       "0         200       725  145000   36250     Ghana   Southeast   January   2019  \n",
       "1         500       815  407500  203750   Nigeria        west  February   2018  \n",
       "2         450       937  421650  252990      Togo  southsouth     March   2018  "
      ]
     },
     "execution_count": 2,
     "metadata": {},
     "output_type": "execute_result"
    }
   ],
   "source": [
    "data = pd.read_csv('bre.csv')\n",
    "data.head(3)"
   ]
  },
  {
   "cell_type": "code",
   "execution_count": 3,
   "metadata": {},
   "outputs": [
    {
     "data": {
      "text/plain": [
       "(1047, 13)"
      ]
     },
     "execution_count": 3,
     "metadata": {},
     "output_type": "execute_result"
    }
   ],
   "source": [
    "data.shape"
   ]
  },
  {
   "cell_type": "code",
   "execution_count": 4,
   "metadata": {},
   "outputs": [
    {
     "data": {
      "text/plain": [
       "Index(['SALES_ID', 'SALES_REP', 'EMAILS', 'BRANDS', 'PLANT_COST', 'UNIT_PRICE',\n",
       "       'QUANTITY', 'COST', 'PROFIT', 'COUNTRIES', 'REGION ', 'MONTHS',\n",
       "       'YEARS'],\n",
       "      dtype='object')"
      ]
     },
     "execution_count": 4,
     "metadata": {},
     "output_type": "execute_result"
    }
   ],
   "source": [
    "data.columns"
   ]
  },
  {
   "cell_type": "markdown",
   "metadata": {},
   "source": [
    "##                         Profit Analysis"
   ]
  },
  {
   "cell_type": "markdown",
   "metadata": {},
   "source": [
    "### 1. Within the space of the last three years, what was the profit worth of the breweries, inclusive of the anglophone and the francophone territories?"
   ]
  },
  {
   "cell_type": "code",
   "execution_count": 5,
   "metadata": {},
   "outputs": [
    {
     "name": "stdout",
     "output_type": "stream",
     "text": [
      "The Profit worth of breweries in the last three years is: 105587420\n"
     ]
    }
   ],
   "source": [
    "total_profit = data['PROFIT'].sum()\n",
    "print('The Profit worth of breweries in the last three years is:', total_profit)"
   ]
  },
  {
   "cell_type": "markdown",
   "metadata": {},
   "source": [
    "### 2. Compare the total profit between these two territories in order for the territory manager, Mr.Stone make strategic decision that will aid profit maximization in 2020."
   ]
  },
  {
   "cell_type": "code",
   "execution_count": 6,
   "metadata": {},
   "outputs": [
    {
     "data": {
      "text/plain": [
       "array(['Ghana', 'Nigeria', 'Togo', 'Benin', 'Senegal'], dtype=object)"
      ]
     },
     "execution_count": 6,
     "metadata": {},
     "output_type": "execute_result"
    }
   ],
   "source": [
    "data['COUNTRIES'].unique()"
   ]
  },
  {
   "cell_type": "code",
   "execution_count": 7,
   "metadata": {},
   "outputs": [],
   "source": [
    "data['territories'] = data['COUNTRIES'].map({'Ghana':'anglophone_country', 'Nigeria':'anglophone_country', 'Togo':'francophone_country',\n",
    "                                             'Benin':'francophone_country', 'Senegal':'francophone_country'})"
   ]
  },
  {
   "cell_type": "code",
   "execution_count": 8,
   "metadata": {},
   "outputs": [
    {
     "data": {
      "text/html": [
       "<div>\n",
       "<style scoped>\n",
       "    .dataframe tbody tr th:only-of-type {\n",
       "        vertical-align: middle;\n",
       "    }\n",
       "\n",
       "    .dataframe tbody tr th {\n",
       "        vertical-align: top;\n",
       "    }\n",
       "\n",
       "    .dataframe thead th {\n",
       "        text-align: right;\n",
       "    }\n",
       "</style>\n",
       "<table border=\"1\" class=\"dataframe\">\n",
       "  <thead>\n",
       "    <tr style=\"text-align: right;\">\n",
       "      <th></th>\n",
       "      <th>territories</th>\n",
       "      <th>PROFIT</th>\n",
       "    </tr>\n",
       "  </thead>\n",
       "  <tbody>\n",
       "    <tr>\n",
       "      <th>0</th>\n",
       "      <td>anglophone_country</td>\n",
       "      <td>42389260</td>\n",
       "    </tr>\n",
       "    <tr>\n",
       "      <th>1</th>\n",
       "      <td>francophone_country</td>\n",
       "      <td>63198160</td>\n",
       "    </tr>\n",
       "  </tbody>\n",
       "</table>\n",
       "</div>"
      ],
      "text/plain": [
       "           territories    PROFIT\n",
       "0   anglophone_country  42389260\n",
       "1  francophone_country  63198160"
      ]
     },
     "execution_count": 8,
     "metadata": {},
     "output_type": "execute_result"
    }
   ],
   "source": [
    "data.groupby(['territories'])['PROFIT'].sum().reset_index()"
   ]
  },
  {
   "cell_type": "code",
   "execution_count": 9,
   "metadata": {},
   "outputs": [
    {
     "data": {
      "text/plain": [
       "<matplotlib.axes._subplots.AxesSubplot at 0xae61518>"
      ]
     },
     "execution_count": 9,
     "metadata": {},
     "output_type": "execute_result"
    },
    {
     "data": {
      "image/png": "[encoded data removed]",
      "text/plain": [
       "<Figure size 576x396 with 1 Axes>"
      ]
     },
     "metadata": {},
     "output_type": "display_data"
    }
   ],
   "source": [
    "data.groupby(['territories'])['PROFIT'].sum().plot(kind = 'bar')"
   ]
  },
  {
   "cell_type": "markdown",
   "metadata": {},
   "source": [
    "From all indications we can see that the francophones countries are making more profit compared to the english speaking countries"
   ]
  },
  {
   "cell_type": "markdown",
   "metadata": {},
   "source": [
    "### 3. Country that generated the highest profit in 2019"
   ]
  },
  {
   "cell_type": "code",
   "execution_count": 10,
   "metadata": {},
   "outputs": [
    {
     "data": {
      "text/html": [
       "<div>\n",
       "<style scoped>\n",
       "    .dataframe tbody tr th:only-of-type {\n",
       "        vertical-align: middle;\n",
       "    }\n",
       "\n",
       "    .dataframe tbody tr th {\n",
       "        vertical-align: top;\n",
       "    }\n",
       "\n",
       "    .dataframe thead th {\n",
       "        text-align: right;\n",
       "    }\n",
       "</style>\n",
       "<table border=\"1\" class=\"dataframe\">\n",
       "  <thead>\n",
       "    <tr style=\"text-align: right;\">\n",
       "      <th></th>\n",
       "      <th>SALES_ID</th>\n",
       "      <th>SALES_REP</th>\n",
       "      <th>EMAILS</th>\n",
       "      <th>BRANDS</th>\n",
       "      <th>PLANT_COST</th>\n",
       "      <th>UNIT_PRICE</th>\n",
       "      <th>QUANTITY</th>\n",
       "      <th>COST</th>\n",
       "      <th>PROFIT</th>\n",
       "      <th>COUNTRIES</th>\n",
       "      <th>REGION</th>\n",
       "      <th>MONTHS</th>\n",
       "      <th>YEARS</th>\n",
       "      <th>territories</th>\n",
       "    </tr>\n",
       "  </thead>\n",
       "  <tbody>\n",
       "    <tr>\n",
       "      <th>0</th>\n",
       "      <td>10101</td>\n",
       "      <td>Jardine</td>\n",
       "      <td>jard@gmail.com</td>\n",
       "      <td>trophy</td>\n",
       "      <td>150</td>\n",
       "      <td>200</td>\n",
       "      <td>725</td>\n",
       "      <td>145000</td>\n",
       "      <td>36250</td>\n",
       "      <td>Ghana</td>\n",
       "      <td>Southeast</td>\n",
       "      <td>January</td>\n",
       "      <td>2019</td>\n",
       "      <td>anglophone_country</td>\n",
       "    </tr>\n",
       "    <tr>\n",
       "      <th>5</th>\n",
       "      <td>10106</td>\n",
       "      <td>Jardine</td>\n",
       "      <td>jard@gmail.com</td>\n",
       "      <td>beta malt</td>\n",
       "      <td>80</td>\n",
       "      <td>150</td>\n",
       "      <td>798</td>\n",
       "      <td>119700</td>\n",
       "      <td>55860</td>\n",
       "      <td>Ghana</td>\n",
       "      <td>northcentral</td>\n",
       "      <td>June</td>\n",
       "      <td>2019</td>\n",
       "      <td>anglophone_country</td>\n",
       "    </tr>\n",
       "    <tr>\n",
       "      <th>8</th>\n",
       "      <td>10109</td>\n",
       "      <td>Morgan</td>\n",
       "      <td>morganny@gmail.com</td>\n",
       "      <td>budweiser</td>\n",
       "      <td>250</td>\n",
       "      <td>500</td>\n",
       "      <td>700</td>\n",
       "      <td>350000</td>\n",
       "      <td>175000</td>\n",
       "      <td>Benin</td>\n",
       "      <td>southsouth</td>\n",
       "      <td>September</td>\n",
       "      <td>2019</td>\n",
       "      <td>francophone_country</td>\n",
       "    </tr>\n",
       "  </tbody>\n",
       "</table>\n",
       "</div>"
      ],
      "text/plain": [
       "   SALES_ID SALES_REP              EMAILS     BRANDS  PLANT_COST  UNIT_PRICE  \\\n",
       "0     10101   Jardine      jard@gmail.com     trophy         150         200   \n",
       "5     10106   Jardine      jard@gmail.com  beta malt          80         150   \n",
       "8     10109    Morgan  morganny@gmail.com  budweiser         250         500   \n",
       "\n",
       "   QUANTITY    COST  PROFIT COUNTRIES        REGION      MONTHS  YEARS  \\\n",
       "0       725  145000   36250     Ghana      Southeast    January   2019   \n",
       "5       798  119700   55860     Ghana  northcentral        June   2019   \n",
       "8       700  350000  175000     Benin     southsouth  September   2019   \n",
       "\n",
       "           territories  \n",
       "0   anglophone_country  \n",
       "5   anglophone_country  \n",
       "8  francophone_country  "
      ]
     },
     "execution_count": 10,
     "metadata": {},
     "output_type": "execute_result"
    }
   ],
   "source": [
    "year_2019 = data[data['YEARS'] == 2019]\n",
    "year_2019.head(3)"
   ]
  },
  {
   "cell_type": "code",
   "execution_count": 11,
   "metadata": {},
   "outputs": [
    {
     "data": {
      "text/html": [
       "<div>\n",
       "<style scoped>\n",
       "    .dataframe tbody tr th:only-of-type {\n",
       "        vertical-align: middle;\n",
       "    }\n",
       "\n",
       "    .dataframe tbody tr th {\n",
       "        vertical-align: top;\n",
       "    }\n",
       "\n",
       "    .dataframe thead th {\n",
       "        text-align: right;\n",
       "    }\n",
       "</style>\n",
       "<table border=\"1\" class=\"dataframe\">\n",
       "  <thead>\n",
       "    <tr style=\"text-align: right;\">\n",
       "      <th></th>\n",
       "      <th>COUNTRIES</th>\n",
       "      <th>PROFIT</th>\n",
       "    </tr>\n",
       "  </thead>\n",
       "  <tbody>\n",
       "    <tr>\n",
       "      <th>2</th>\n",
       "      <td>Nigeria</td>\n",
       "      <td>4805320</td>\n",
       "    </tr>\n",
       "    <tr>\n",
       "      <th>0</th>\n",
       "      <td>Benin</td>\n",
       "      <td>5273340</td>\n",
       "    </tr>\n",
       "    <tr>\n",
       "      <th>4</th>\n",
       "      <td>Togo</td>\n",
       "      <td>6109960</td>\n",
       "    </tr>\n",
       "    <tr>\n",
       "      <th>3</th>\n",
       "      <td>Senegal</td>\n",
       "      <td>6687560</td>\n",
       "    </tr>\n",
       "    <tr>\n",
       "      <th>1</th>\n",
       "      <td>Ghana</td>\n",
       "      <td>7144070</td>\n",
       "    </tr>\n",
       "  </tbody>\n",
       "</table>\n",
       "</div>"
      ],
      "text/plain": [
       "  COUNTRIES   PROFIT\n",
       "2   Nigeria  4805320\n",
       "0     Benin  5273340\n",
       "4      Togo  6109960\n",
       "3   Senegal  6687560\n",
       "1     Ghana  7144070"
      ]
     },
     "execution_count": 11,
     "metadata": {},
     "output_type": "execute_result"
    }
   ],
   "source": [
    "year_2019.groupby(['COUNTRIES'])['PROFIT'].sum().reset_index().sort_values(by = 'PROFIT')"
   ]
  },
  {
   "cell_type": "code",
   "execution_count": 12,
   "metadata": {},
   "outputs": [
    {
     "data": {
      "text/plain": [
       "<matplotlib.axes._subplots.AxesSubplot at 0xaf26c88>"
      ]
     },
     "execution_count": 12,
     "metadata": {},
     "output_type": "execute_result"
    },
    {
     "data": {
      "image/png": "[encoded data removed]",
      "text/plain": [
       "<Figure size 576x396 with 1 Axes>"
      ]
     },
     "metadata": {},
     "output_type": "display_data"
    }
   ],
   "source": [
    "year_2019.groupby(['COUNTRIES'])['PROFIT'].sum().plot(kind = 'bar')"
   ]
  },
  {
   "cell_type": "markdown",
   "metadata": {},
   "source": [
    "The country with the highest profit in 2019 is Ghana"
   ]
  },
  {
   "cell_type": "markdown",
   "metadata": {},
   "source": [
    "### 4. Help him find the year with the highest profit."
   ]
  },
  {
   "cell_type": "code",
   "execution_count": 13,
   "metadata": {},
   "outputs": [
    {
     "data": {
      "text/html": [
       "<div>\n",
       "<style scoped>\n",
       "    .dataframe tbody tr th:only-of-type {\n",
       "        vertical-align: middle;\n",
       "    }\n",
       "\n",
       "    .dataframe tbody tr th {\n",
       "        vertical-align: top;\n",
       "    }\n",
       "\n",
       "    .dataframe thead th {\n",
       "        text-align: right;\n",
       "    }\n",
       "</style>\n",
       "<table border=\"1\" class=\"dataframe\">\n",
       "  <thead>\n",
       "    <tr style=\"text-align: right;\">\n",
       "      <th></th>\n",
       "      <th>YEARS</th>\n",
       "      <th>PROFIT</th>\n",
       "    </tr>\n",
       "  </thead>\n",
       "  <tbody>\n",
       "    <tr>\n",
       "      <th>2</th>\n",
       "      <td>2019</td>\n",
       "      <td>30020250</td>\n",
       "    </tr>\n",
       "    <tr>\n",
       "      <th>1</th>\n",
       "      <td>2018</td>\n",
       "      <td>37063850</td>\n",
       "    </tr>\n",
       "    <tr>\n",
       "      <th>0</th>\n",
       "      <td>2017</td>\n",
       "      <td>38503320</td>\n",
       "    </tr>\n",
       "  </tbody>\n",
       "</table>\n",
       "</div>"
      ],
      "text/plain": [
       "   YEARS    PROFIT\n",
       "2   2019  30020250\n",
       "1   2018  37063850\n",
       "0   2017  38503320"
      ]
     },
     "execution_count": 13,
     "metadata": {},
     "output_type": "execute_result"
    }
   ],
   "source": [
    "data.groupby(['YEARS'])['PROFIT'].sum().reset_index().sort_values(by = 'PROFIT')"
   ]
  },
  {
   "cell_type": "code",
   "execution_count": 14,
   "metadata": {},
   "outputs": [
    {
     "data": {
      "text/plain": [
       "<matplotlib.axes._subplots.AxesSubplot at 0xafbadd8>"
      ]
     },
     "execution_count": 14,
     "metadata": {},
     "output_type": "execute_result"
    },
    {
     "data": {
      "image/png": "[encoded data removed]",
      "text/plain": [
       "<Figure size 576x396 with 1 Axes>"
      ]
     },
     "metadata": {},
     "output_type": "display_data"
    }
   ],
   "source": [
    "data.groupby(['YEARS'])['PROFIT'].sum().plot(kind = 'bar')"
   ]
  },
  {
   "cell_type": "markdown",
   "metadata": {},
   "source": [
    "The year with the highest profit is 2017"
   ]
  },
  {
   "cell_type": "markdown",
   "metadata": {},
   "source": [
    "### 5. Which month in the three years were the least profit generated?"
   ]
  },
  {
   "cell_type": "code",
   "execution_count": 15,
   "metadata": {},
   "outputs": [
    {
     "data": {
      "text/html": [
       "<div>\n",
       "<style scoped>\n",
       "    .dataframe tbody tr th:only-of-type {\n",
       "        vertical-align: middle;\n",
       "    }\n",
       "\n",
       "    .dataframe tbody tr th {\n",
       "        vertical-align: top;\n",
       "    }\n",
       "\n",
       "    .dataframe thead th {\n",
       "        text-align: right;\n",
       "    }\n",
       "</style>\n",
       "<table border=\"1\" class=\"dataframe\">\n",
       "  <thead>\n",
       "    <tr style=\"text-align: right;\">\n",
       "      <th></th>\n",
       "      <th>MONTHS</th>\n",
       "      <th>PROFIT</th>\n",
       "    </tr>\n",
       "  </thead>\n",
       "  <tbody>\n",
       "    <tr>\n",
       "      <th>0</th>\n",
       "      <td>April</td>\n",
       "      <td>8573830</td>\n",
       "    </tr>\n",
       "    <tr>\n",
       "      <th>11</th>\n",
       "      <td>September</td>\n",
       "      <td>8702660</td>\n",
       "    </tr>\n",
       "    <tr>\n",
       "      <th>4</th>\n",
       "      <td>January</td>\n",
       "      <td>8722990</td>\n",
       "    </tr>\n",
       "    <tr>\n",
       "      <th>1</th>\n",
       "      <td>August</td>\n",
       "      <td>8730940</td>\n",
       "    </tr>\n",
       "    <tr>\n",
       "      <th>10</th>\n",
       "      <td>October</td>\n",
       "      <td>8767100</td>\n",
       "    </tr>\n",
       "    <tr>\n",
       "      <th>8</th>\n",
       "      <td>May</td>\n",
       "      <td>8772250</td>\n",
       "    </tr>\n",
       "    <tr>\n",
       "      <th>5</th>\n",
       "      <td>July</td>\n",
       "      <td>8787010</td>\n",
       "    </tr>\n",
       "    <tr>\n",
       "      <th>2</th>\n",
       "      <td>December</td>\n",
       "      <td>8787290</td>\n",
       "    </tr>\n",
       "    <tr>\n",
       "      <th>9</th>\n",
       "      <td>November</td>\n",
       "      <td>8820330</td>\n",
       "    </tr>\n",
       "    <tr>\n",
       "      <th>6</th>\n",
       "      <td>June</td>\n",
       "      <td>8828440</td>\n",
       "    </tr>\n",
       "    <tr>\n",
       "      <th>3</th>\n",
       "      <td>February</td>\n",
       "      <td>9028450</td>\n",
       "    </tr>\n",
       "    <tr>\n",
       "      <th>7</th>\n",
       "      <td>March</td>\n",
       "      <td>9066130</td>\n",
       "    </tr>\n",
       "  </tbody>\n",
       "</table>\n",
       "</div>"
      ],
      "text/plain": [
       "       MONTHS   PROFIT\n",
       "0       April  8573830\n",
       "11  September  8702660\n",
       "4     January  8722990\n",
       "1      August  8730940\n",
       "10    October  8767100\n",
       "8         May  8772250\n",
       "5        July  8787010\n",
       "2    December  8787290\n",
       "9    November  8820330\n",
       "6        June  8828440\n",
       "3    February  9028450\n",
       "7       March  9066130"
      ]
     },
     "execution_count": 15,
     "metadata": {},
     "output_type": "execute_result"
    }
   ],
   "source": [
    "data.groupby(['MONTHS'])['PROFIT'].sum().reset_index().sort_values(by = 'PROFIT')"
   ]
  },
  {
   "cell_type": "code",
   "execution_count": 16,
   "metadata": {},
   "outputs": [
    {
     "data": {
      "text/plain": [
       "<matplotlib.axes._subplots.AxesSubplot at 0xaf26e10>"
      ]
     },
     "execution_count": 16,
     "metadata": {},
     "output_type": "execute_result"
    },
    {
     "data": {
      "image/png": "[encoded data removed]",
      "text/plain": [
       "<Figure size 576x396 with 1 Axes>"
      ]
     },
     "metadata": {},
     "output_type": "display_data"
    }
   ],
   "source": [
    "data.groupby(['MONTHS'])['PROFIT'].sum().plot(kind = 'bar')"
   ]
  },
  {
   "cell_type": "markdown",
   "metadata": {},
   "source": [
    "April appears to be the month was the least profit generated over the 3 years specified with little margin difference across the months"
   ]
  },
  {
   "cell_type": "markdown",
   "metadata": {},
   "source": [
    "### 6. What was the minimum profit in the month of December 2018?"
   ]
  },
  {
   "cell_type": "code",
   "execution_count": 17,
   "metadata": {},
   "outputs": [
    {
     "data": {
      "text/html": [
       "<div>\n",
       "<style scoped>\n",
       "    .dataframe tbody tr th:only-of-type {\n",
       "        vertical-align: middle;\n",
       "    }\n",
       "\n",
       "    .dataframe tbody tr th {\n",
       "        vertical-align: top;\n",
       "    }\n",
       "\n",
       "    .dataframe thead th {\n",
       "        text-align: right;\n",
       "    }\n",
       "</style>\n",
       "<table border=\"1\" class=\"dataframe\">\n",
       "  <thead>\n",
       "    <tr style=\"text-align: right;\">\n",
       "      <th></th>\n",
       "      <th>SALES_ID</th>\n",
       "      <th>SALES_REP</th>\n",
       "      <th>EMAILS</th>\n",
       "      <th>BRANDS</th>\n",
       "      <th>PLANT_COST</th>\n",
       "      <th>UNIT_PRICE</th>\n",
       "      <th>QUANTITY</th>\n",
       "      <th>COST</th>\n",
       "      <th>PROFIT</th>\n",
       "      <th>COUNTRIES</th>\n",
       "      <th>REGION</th>\n",
       "      <th>MONTHS</th>\n",
       "      <th>YEARS</th>\n",
       "      <th>territories</th>\n",
       "    </tr>\n",
       "  </thead>\n",
       "  <tbody>\n",
       "    <tr>\n",
       "      <th>71</th>\n",
       "      <td>10172</td>\n",
       "      <td>Jones</td>\n",
       "      <td>jone.ai@yahoo.com</td>\n",
       "      <td>budweiser</td>\n",
       "      <td>250</td>\n",
       "      <td>500</td>\n",
       "      <td>869</td>\n",
       "      <td>434500</td>\n",
       "      <td>217250</td>\n",
       "      <td>Nigeria</td>\n",
       "      <td>northcentral</td>\n",
       "      <td>December</td>\n",
       "      <td>2018</td>\n",
       "      <td>anglophone_country</td>\n",
       "    </tr>\n",
       "    <tr>\n",
       "      <th>95</th>\n",
       "      <td>10196</td>\n",
       "      <td>Sorvino</td>\n",
       "      <td>sorvi2000@gmail.com</td>\n",
       "      <td>hero</td>\n",
       "      <td>150</td>\n",
       "      <td>200</td>\n",
       "      <td>959</td>\n",
       "      <td>191800</td>\n",
       "      <td>47950</td>\n",
       "      <td>Ghana</td>\n",
       "      <td>northcentral</td>\n",
       "      <td>December</td>\n",
       "      <td>2018</td>\n",
       "      <td>anglophone_country</td>\n",
       "    </tr>\n",
       "    <tr>\n",
       "      <th>107</th>\n",
       "      <td>10208</td>\n",
       "      <td>Jardine</td>\n",
       "      <td>jard@gmail.com</td>\n",
       "      <td>castle lite</td>\n",
       "      <td>180</td>\n",
       "      <td>450</td>\n",
       "      <td>878</td>\n",
       "      <td>395100</td>\n",
       "      <td>237060</td>\n",
       "      <td>Togo</td>\n",
       "      <td>northcentral</td>\n",
       "      <td>December</td>\n",
       "      <td>2018</td>\n",
       "      <td>francophone_country</td>\n",
       "    </tr>\n",
       "  </tbody>\n",
       "</table>\n",
       "</div>"
      ],
      "text/plain": [
       "     SALES_ID SALES_REP               EMAILS       BRANDS  PLANT_COST  \\\n",
       "71      10172     Jones    jone.ai@yahoo.com    budweiser         250   \n",
       "95      10196   Sorvino  sorvi2000@gmail.com         hero         150   \n",
       "107     10208   Jardine       jard@gmail.com  castle lite         180   \n",
       "\n",
       "     UNIT_PRICE  QUANTITY    COST  PROFIT COUNTRIES        REGION     MONTHS  \\\n",
       "71          500       869  434500  217250   Nigeria  northcentral   December   \n",
       "95          200       959  191800   47950     Ghana  northcentral   December   \n",
       "107         450       878  395100  237060      Togo  northcentral   December   \n",
       "\n",
       "     YEARS          territories  \n",
       "71    2018   anglophone_country  \n",
       "95    2018   anglophone_country  \n",
       "107   2018  francophone_country  "
      ]
     },
     "execution_count": 17,
     "metadata": {},
     "output_type": "execute_result"
    }
   ],
   "source": [
    "year_2018 = data[data['YEARS'] == 2018]\n",
    "year_2018_dec = year_2018[year_2018['MONTHS'] == 'December']\n",
    "year_2018_dec.head(3)"
   ]
  },
  {
   "cell_type": "code",
   "execution_count": 18,
   "metadata": {},
   "outputs": [
    {
     "name": "stdout",
     "output_type": "stream",
     "text": [
      "The minimum profit in the month of december 2018 is: 38150\n"
     ]
    }
   ],
   "source": [
    "dec_2018_min_profit = year_2018_dec['PROFIT'].min()\n",
    "print('The minimum profit in the month of december 2018 is:', dec_2018_min_profit)"
   ]
  },
  {
   "cell_type": "markdown",
   "metadata": {},
   "source": [
    "### 7. Compare the profit in percentage for each of the month in 2019"
   ]
  },
  {
   "cell_type": "code",
   "execution_count": 19,
   "metadata": {},
   "outputs": [
    {
     "data": {
      "text/html": [
       "<div>\n",
       "<style scoped>\n",
       "    .dataframe tbody tr th:only-of-type {\n",
       "        vertical-align: middle;\n",
       "    }\n",
       "\n",
       "    .dataframe tbody tr th {\n",
       "        vertical-align: top;\n",
       "    }\n",
       "\n",
       "    .dataframe thead th {\n",
       "        text-align: right;\n",
       "    }\n",
       "</style>\n",
       "<table border=\"1\" class=\"dataframe\">\n",
       "  <thead>\n",
       "    <tr style=\"text-align: right;\">\n",
       "      <th></th>\n",
       "      <th>MONTHS</th>\n",
       "      <th>PROFIT</th>\n",
       "      <th>Profit%</th>\n",
       "    </tr>\n",
       "  </thead>\n",
       "  <tbody>\n",
       "    <tr>\n",
       "      <th>3</th>\n",
       "      <td>February</td>\n",
       "      <td>1366880</td>\n",
       "      <td>1.294548</td>\n",
       "    </tr>\n",
       "    <tr>\n",
       "      <th>11</th>\n",
       "      <td>September</td>\n",
       "      <td>1892600</td>\n",
       "      <td>1.792448</td>\n",
       "    </tr>\n",
       "    <tr>\n",
       "      <th>2</th>\n",
       "      <td>December</td>\n",
       "      <td>2048780</td>\n",
       "      <td>1.940364</td>\n",
       "    </tr>\n",
       "  </tbody>\n",
       "</table>\n",
       "</div>"
      ],
      "text/plain": [
       "       MONTHS   PROFIT   Profit%\n",
       "3    February  1366880  1.294548\n",
       "11  September  1892600  1.792448\n",
       "2    December  2048780  1.940364"
      ]
     },
     "execution_count": 19,
     "metadata": {},
     "output_type": "execute_result"
    }
   ],
   "source": [
    "m = year_2019.groupby(['MONTHS'])['PROFIT'].sum().reset_index().sort_values(by = 'PROFIT')\n",
    "m['Profit%'] =  m['PROFIT'].apply(lambda x : (x /total_profit )* 100)\n",
    "m.head(3)"
   ]
  },
  {
   "cell_type": "markdown",
   "metadata": {},
   "source": [
    "### 8. Which particular brand generated the highest profit in Senegal?"
   ]
  },
  {
   "cell_type": "code",
   "execution_count": 20,
   "metadata": {},
   "outputs": [
    {
     "data": {
      "text/html": [
       "<div>\n",
       "<style scoped>\n",
       "    .dataframe tbody tr th:only-of-type {\n",
       "        vertical-align: middle;\n",
       "    }\n",
       "\n",
       "    .dataframe tbody tr th {\n",
       "        vertical-align: top;\n",
       "    }\n",
       "\n",
       "    .dataframe thead th {\n",
       "        text-align: right;\n",
       "    }\n",
       "</style>\n",
       "<table border=\"1\" class=\"dataframe\">\n",
       "  <thead>\n",
       "    <tr style=\"text-align: right;\">\n",
       "      <th></th>\n",
       "      <th>SALES_ID</th>\n",
       "      <th>SALES_REP</th>\n",
       "      <th>EMAILS</th>\n",
       "      <th>BRANDS</th>\n",
       "      <th>PLANT_COST</th>\n",
       "      <th>UNIT_PRICE</th>\n",
       "      <th>QUANTITY</th>\n",
       "      <th>COST</th>\n",
       "      <th>PROFIT</th>\n",
       "      <th>COUNTRIES</th>\n",
       "      <th>REGION</th>\n",
       "      <th>MONTHS</th>\n",
       "      <th>YEARS</th>\n",
       "      <th>territories</th>\n",
       "    </tr>\n",
       "  </thead>\n",
       "  <tbody>\n",
       "    <tr>\n",
       "      <th>4</th>\n",
       "      <td>10105</td>\n",
       "      <td>Andrews</td>\n",
       "      <td>andy@gmail.com</td>\n",
       "      <td>hero</td>\n",
       "      <td>150</td>\n",
       "      <td>200</td>\n",
       "      <td>836</td>\n",
       "      <td>167200</td>\n",
       "      <td>41800</td>\n",
       "      <td>Senegal</td>\n",
       "      <td>northeast</td>\n",
       "      <td>May</td>\n",
       "      <td>2017</td>\n",
       "      <td>francophone_country</td>\n",
       "    </tr>\n",
       "    <tr>\n",
       "      <th>9</th>\n",
       "      <td>10110</td>\n",
       "      <td>Howard</td>\n",
       "      <td>howard_freeman@yahoo.com</td>\n",
       "      <td>castle lite</td>\n",
       "      <td>180</td>\n",
       "      <td>450</td>\n",
       "      <td>745</td>\n",
       "      <td>335250</td>\n",
       "      <td>201150</td>\n",
       "      <td>Senegal</td>\n",
       "      <td>northwest</td>\n",
       "      <td>October</td>\n",
       "      <td>2017</td>\n",
       "      <td>francophone_country</td>\n",
       "    </tr>\n",
       "    <tr>\n",
       "      <th>14</th>\n",
       "      <td>10115</td>\n",
       "      <td>Morgan</td>\n",
       "      <td>morganny@gmail.com</td>\n",
       "      <td>trophy</td>\n",
       "      <td>150</td>\n",
       "      <td>200</td>\n",
       "      <td>939</td>\n",
       "      <td>187800</td>\n",
       "      <td>46950</td>\n",
       "      <td>Senegal</td>\n",
       "      <td>southsouth</td>\n",
       "      <td>March</td>\n",
       "      <td>2018</td>\n",
       "      <td>francophone_country</td>\n",
       "    </tr>\n",
       "  </tbody>\n",
       "</table>\n",
       "</div>"
      ],
      "text/plain": [
       "    SALES_ID SALES_REP                    EMAILS       BRANDS  PLANT_COST  \\\n",
       "4      10105   Andrews            andy@gmail.com         hero         150   \n",
       "9      10110    Howard  howard_freeman@yahoo.com  castle lite         180   \n",
       "14     10115    Morgan        morganny@gmail.com       trophy         150   \n",
       "\n",
       "    UNIT_PRICE  QUANTITY    COST  PROFIT COUNTRIES     REGION    MONTHS  \\\n",
       "4          200       836  167200   41800   Senegal  northeast       May   \n",
       "9          450       745  335250  201150   Senegal   northwest  October   \n",
       "14         200       939  187800   46950   Senegal  southsouth    March   \n",
       "\n",
       "    YEARS          territories  \n",
       "4    2017  francophone_country  \n",
       "9    2017  francophone_country  \n",
       "14   2018  francophone_country  "
      ]
     },
     "execution_count": 20,
     "metadata": {},
     "output_type": "execute_result"
    }
   ],
   "source": [
    "senegal = data[data['COUNTRIES'] == 'Senegal']\n",
    "senegal.head(3)"
   ]
  },
  {
   "cell_type": "code",
   "execution_count": 21,
   "metadata": {},
   "outputs": [
    {
     "data": {
      "text/html": [
       "<div>\n",
       "<style scoped>\n",
       "    .dataframe tbody tr th:only-of-type {\n",
       "        vertical-align: middle;\n",
       "    }\n",
       "\n",
       "    .dataframe tbody tr th {\n",
       "        vertical-align: top;\n",
       "    }\n",
       "\n",
       "    .dataframe thead th {\n",
       "        text-align: right;\n",
       "    }\n",
       "</style>\n",
       "<table border=\"1\" class=\"dataframe\">\n",
       "  <thead>\n",
       "    <tr style=\"text-align: right;\">\n",
       "      <th></th>\n",
       "      <th>BRANDS</th>\n",
       "      <th>PROFIT</th>\n",
       "    </tr>\n",
       "  </thead>\n",
       "  <tbody>\n",
       "    <tr>\n",
       "      <th>6</th>\n",
       "      <td>trophy</td>\n",
       "      <td>1278750</td>\n",
       "    </tr>\n",
       "    <tr>\n",
       "      <th>5</th>\n",
       "      <td>hero</td>\n",
       "      <td>1331600</td>\n",
       "    </tr>\n",
       "    <tr>\n",
       "      <th>4</th>\n",
       "      <td>grand malt</td>\n",
       "      <td>1525680</td>\n",
       "    </tr>\n",
       "    <tr>\n",
       "      <th>0</th>\n",
       "      <td>beta malt</td>\n",
       "      <td>1793750</td>\n",
       "    </tr>\n",
       "    <tr>\n",
       "      <th>3</th>\n",
       "      <td>eagle lager</td>\n",
       "      <td>2061680</td>\n",
       "    </tr>\n",
       "    <tr>\n",
       "      <th>1</th>\n",
       "      <td>budweiser</td>\n",
       "      <td>6480750</td>\n",
       "    </tr>\n",
       "    <tr>\n",
       "      <th>2</th>\n",
       "      <td>castle lite</td>\n",
       "      <td>7012980</td>\n",
       "    </tr>\n",
       "  </tbody>\n",
       "</table>\n",
       "</div>"
      ],
      "text/plain": [
       "        BRANDS   PROFIT\n",
       "6       trophy  1278750\n",
       "5         hero  1331600\n",
       "4   grand malt  1525680\n",
       "0    beta malt  1793750\n",
       "3  eagle lager  2061680\n",
       "1    budweiser  6480750\n",
       "2  castle lite  7012980"
      ]
     },
     "execution_count": 21,
     "metadata": {},
     "output_type": "execute_result"
    }
   ],
   "source": [
    "senegal.groupby(['BRANDS'])['PROFIT'].sum().reset_index().sort_values(by = 'PROFIT')"
   ]
  },
  {
   "cell_type": "code",
   "execution_count": 22,
   "metadata": {},
   "outputs": [
    {
     "data": {
      "image/png": "[encoded data removed]",
      "text/plain": [
       "<Figure size 576x396 with 1 Axes>"
      ]
     },
     "metadata": {},
     "output_type": "display_data"
    }
   ],
   "source": [
    "senegal.groupby(['BRANDS'])['PROFIT'].sum().plot(kind = 'bar');"
   ]
  },
  {
   "cell_type": "markdown",
   "metadata": {},
   "source": [
    "Castle lite is the brand with the highest profit in senegal"
   ]
  },
  {
   "cell_type": "code",
   "execution_count": null,
   "metadata": {},
   "outputs": [],
   "source": []
  }
 ],
 "metadata": {
  "kernelspec": {
   "display_name": "Python 3",
   "language": "python",
   "name": "python3"
  },
  "language_info": {
   "codemirror_mode": {
    "name": "ipython",
    "version": 3
   },
   "file_extension": ".py",
   "mimetype": "text/x-python",
   "name": "python",
   "nbconvert_exporter": "python",
   "pygments_lexer": "ipython3",
   "version": "3.8.5"
  }
 },
 "nbformat": 4,
 "nbformat_minor": 4
}
