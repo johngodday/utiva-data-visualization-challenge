{
 "cells": [
  {
   "cell_type": "code",
   "execution_count": 1,
   "metadata": {},
   "outputs": [],
   "source": [
    "import pandas as pd\n",
    "import numpy as np\n",
    "import warnings \n",
    "warnings.filterwarnings('ignore')\n",
    "\n",
    "import matplotlib.pyplot as plt\n",
    "plt.style.use('seaborn')\n",
    "import seaborn as plt"
   ]
  },
  {
   "cell_type": "code",
   "execution_count": 2,
   "metadata": {},
   "outputs": [
    {
     "data": {
      "text/html": [
       "<div>\n",
       "<style scoped>\n",
       "    .dataframe tbody tr th:only-of-type {\n",
       "        vertical-align: middle;\n",
       "    }\n",
       "\n",
       "    .dataframe tbody tr th {\n",
       "        vertical-align: top;\n",
       "    }\n",
       "\n",
       "    .dataframe thead th {\n",
       "        text-align: right;\n",
       "    }\n",
       "</style>\n",
       "<table border=\"1\" class=\"dataframe\">\n",
       "  <thead>\n",
       "    <tr style=\"text-align: right;\">\n",
       "      <th></th>\n",
       "      <th>SALES_ID</th>\n",
       "      <th>SALES_REP</th>\n",
       "      <th>EMAILS</th>\n",
       "      <th>BRANDS</th>\n",
       "      <th>PLANT_COST</th>\n",
       "      <th>UNIT_PRICE</th>\n",
       "      <th>QUANTITY</th>\n",
       "      <th>COST</th>\n",
       "      <th>PROFIT</th>\n",
       "      <th>COUNTRIES</th>\n",
       "      <th>REGION</th>\n",
       "      <th>MONTHS</th>\n",
       "      <th>YEARS</th>\n",
       "    </tr>\n",
       "  </thead>\n",
       "  <tbody>\n",
       "    <tr>\n",
       "      <th>0</th>\n",
       "      <td>10101</td>\n",
       "      <td>Jardine</td>\n",
       "      <td>jard@gmail.com</td>\n",
       "      <td>trophy</td>\n",
       "      <td>150</td>\n",
       "      <td>200</td>\n",
       "      <td>725</td>\n",
       "      <td>145000</td>\n",
       "      <td>36250</td>\n",
       "      <td>Ghana</td>\n",
       "      <td>Southeast</td>\n",
       "      <td>January</td>\n",
       "      <td>2019</td>\n",
       "    </tr>\n",
       "    <tr>\n",
       "      <th>1</th>\n",
       "      <td>10102</td>\n",
       "      <td>Gill</td>\n",
       "      <td>gillhell@uk.com</td>\n",
       "      <td>budweiser</td>\n",
       "      <td>250</td>\n",
       "      <td>500</td>\n",
       "      <td>815</td>\n",
       "      <td>407500</td>\n",
       "      <td>203750</td>\n",
       "      <td>Nigeria</td>\n",
       "      <td>west</td>\n",
       "      <td>February</td>\n",
       "      <td>2018</td>\n",
       "    </tr>\n",
       "    <tr>\n",
       "      <th>2</th>\n",
       "      <td>10103</td>\n",
       "      <td>Sorvino</td>\n",
       "      <td>sorvi2000@gmail.com</td>\n",
       "      <td>castle lite</td>\n",
       "      <td>180</td>\n",
       "      <td>450</td>\n",
       "      <td>937</td>\n",
       "      <td>421650</td>\n",
       "      <td>252990</td>\n",
       "      <td>Togo</td>\n",
       "      <td>southsouth</td>\n",
       "      <td>March</td>\n",
       "      <td>2018</td>\n",
       "    </tr>\n",
       "  </tbody>\n",
       "</table>\n",
       "</div>"
      ],
      "text/plain": [
       "   SALES_ID SALES_REP               EMAILS       BRANDS  PLANT_COST  \\\n",
       "0     10101   Jardine       jard@gmail.com       trophy         150   \n",
       "1     10102      Gill      gillhell@uk.com    budweiser         250   \n",
       "2     10103   Sorvino  sorvi2000@gmail.com  castle lite         180   \n",
       "\n",
       "   UNIT_PRICE  QUANTITY    COST  PROFIT COUNTRIES     REGION     MONTHS  YEARS  \n",
       "0         200       725  145000   36250     Ghana   Southeast   January   2019  \n",
       "1         500       815  407500  203750   Nigeria        west  February   2018  \n",
       "2         450       937  421650  252990      Togo  southsouth     March   2018  "
      ]
     },
     "execution_count": 2,
     "metadata": {},
     "output_type": "execute_result"
    }
   ],
   "source": [
    "data = pd.read_csv('bre.csv')\n",
    "data.head(3)"
   ]
  },
  {
   "cell_type": "markdown",
   "metadata": {},
   "source": [
    "# Brand Analysis"
   ]
  },
  {
   "cell_type": "markdown",
   "metadata": {},
   "source": [
    "### 1. Within the last two years, the brand manager wants to know the top three brands consumed in the francophone countries"
   ]
  },
  {
   "cell_type": "code",
   "execution_count": 3,
   "metadata": {},
   "outputs": [],
   "source": [
    "data['territories'] = data['COUNTRIES'].map({'Ghana':'anglophone_country', 'Nigeria':'anglophone_country', 'Togo':'francophone_country',\n",
    "                                             'Benin':'francophone_country', 'Senegal':'francophone_country'})"
   ]
  },
  {
   "cell_type": "code",
   "execution_count": 24,
   "metadata": {},
   "outputs": [
    {
     "data": {
      "text/html": [
       "<div>\n",
       "<style scoped>\n",
       "    .dataframe tbody tr th:only-of-type {\n",
       "        vertical-align: middle;\n",
       "    }\n",
       "\n",
       "    .dataframe tbody tr th {\n",
       "        vertical-align: top;\n",
       "    }\n",
       "\n",
       "    .dataframe thead th {\n",
       "        text-align: right;\n",
       "    }\n",
       "</style>\n",
       "<table border=\"1\" class=\"dataframe\">\n",
       "  <thead>\n",
       "    <tr style=\"text-align: right;\">\n",
       "      <th></th>\n",
       "      <th>SALES_ID</th>\n",
       "      <th>SALES_REP</th>\n",
       "      <th>EMAILS</th>\n",
       "      <th>BRANDS</th>\n",
       "      <th>PLANT_COST</th>\n",
       "      <th>UNIT_PRICE</th>\n",
       "      <th>QUANTITY</th>\n",
       "      <th>COST</th>\n",
       "      <th>PROFIT</th>\n",
       "      <th>COUNTRIES</th>\n",
       "      <th>REGION</th>\n",
       "      <th>MONTHS</th>\n",
       "      <th>YEARS</th>\n",
       "      <th>territories</th>\n",
       "    </tr>\n",
       "  </thead>\n",
       "  <tbody>\n",
       "    <tr>\n",
       "      <th>2</th>\n",
       "      <td>10103</td>\n",
       "      <td>Sorvino</td>\n",
       "      <td>sorvi2000@gmail.com</td>\n",
       "      <td>castle lite</td>\n",
       "      <td>180</td>\n",
       "      <td>450</td>\n",
       "      <td>937</td>\n",
       "      <td>421650</td>\n",
       "      <td>252990</td>\n",
       "      <td>Togo</td>\n",
       "      <td>southsouth</td>\n",
       "      <td>March</td>\n",
       "      <td>2018</td>\n",
       "      <td>francophone_country</td>\n",
       "    </tr>\n",
       "    <tr>\n",
       "      <th>3</th>\n",
       "      <td>10104</td>\n",
       "      <td>Jones</td>\n",
       "      <td>jone.ai@yahoo.com</td>\n",
       "      <td>eagle lager</td>\n",
       "      <td>170</td>\n",
       "      <td>250</td>\n",
       "      <td>765</td>\n",
       "      <td>191250</td>\n",
       "      <td>61200</td>\n",
       "      <td>Benin</td>\n",
       "      <td>northwest</td>\n",
       "      <td>April</td>\n",
       "      <td>2018</td>\n",
       "      <td>francophone_country</td>\n",
       "    </tr>\n",
       "    <tr>\n",
       "      <th>7</th>\n",
       "      <td>10108</td>\n",
       "      <td>Jones</td>\n",
       "      <td>jone.ai@yahoo.com</td>\n",
       "      <td>trophy</td>\n",
       "      <td>150</td>\n",
       "      <td>200</td>\n",
       "      <td>812</td>\n",
       "      <td>162400</td>\n",
       "      <td>40600</td>\n",
       "      <td>Togo</td>\n",
       "      <td>west</td>\n",
       "      <td>August</td>\n",
       "      <td>2018</td>\n",
       "      <td>francophone_country</td>\n",
       "    </tr>\n",
       "  </tbody>\n",
       "</table>\n",
       "</div>"
      ],
      "text/plain": [
       "   SALES_ID SALES_REP               EMAILS       BRANDS  PLANT_COST  \\\n",
       "2     10103   Sorvino  sorvi2000@gmail.com  castle lite         180   \n",
       "3     10104     Jones    jone.ai@yahoo.com  eagle lager         170   \n",
       "7     10108     Jones    jone.ai@yahoo.com       trophy         150   \n",
       "\n",
       "   UNIT_PRICE  QUANTITY    COST  PROFIT COUNTRIES     REGION   MONTHS  YEARS  \\\n",
       "2         450       937  421650  252990      Togo  southsouth   March   2018   \n",
       "3         250       765  191250   61200     Benin   northwest   April   2018   \n",
       "7         200       812  162400   40600      Togo        west  August   2018   \n",
       "\n",
       "           territories  \n",
       "2  francophone_country  \n",
       "3  francophone_country  \n",
       "7  francophone_country  "
      ]
     },
     "execution_count": 24,
     "metadata": {},
     "output_type": "execute_result"
    }
   ],
   "source": [
    "y_18 = data[data['YEARS'] == 2018]\n",
    "y_19 = data[data['YEARS'] == 2019]\n",
    "y_1819 = pd.concat([y_18, y_19], axis = 0)\n",
    "franco = y_1819[y_1819['territories'] == 'francophone_country']\n",
    "franco.head(3)"
   ]
  },
  {
   "cell_type": "code",
   "execution_count": 25,
   "metadata": {},
   "outputs": [
    {
     "data": {
      "text/html": [
       "<div>\n",
       "<style scoped>\n",
       "    .dataframe tbody tr th:only-of-type {\n",
       "        vertical-align: middle;\n",
       "    }\n",
       "\n",
       "    .dataframe tbody tr th {\n",
       "        vertical-align: top;\n",
       "    }\n",
       "\n",
       "    .dataframe thead th {\n",
       "        text-align: right;\n",
       "    }\n",
       "</style>\n",
       "<table border=\"1\" class=\"dataframe\">\n",
       "  <thead>\n",
       "    <tr style=\"text-align: right;\">\n",
       "      <th></th>\n",
       "      <th>BRANDS</th>\n",
       "      <th>QUANTITY</th>\n",
       "    </tr>\n",
       "  </thead>\n",
       "  <tbody>\n",
       "    <tr>\n",
       "      <th>0</th>\n",
       "      <td>beta malt</td>\n",
       "      <td>44903</td>\n",
       "    </tr>\n",
       "    <tr>\n",
       "      <th>1</th>\n",
       "      <td>budweiser</td>\n",
       "      <td>46566</td>\n",
       "    </tr>\n",
       "    <tr>\n",
       "      <th>4</th>\n",
       "      <td>grand malt</td>\n",
       "      <td>47166</td>\n",
       "    </tr>\n",
       "    <tr>\n",
       "      <th>2</th>\n",
       "      <td>castle lite</td>\n",
       "      <td>50341</td>\n",
       "    </tr>\n",
       "    <tr>\n",
       "      <th>3</th>\n",
       "      <td>eagle lager</td>\n",
       "      <td>50630</td>\n",
       "    </tr>\n",
       "    <tr>\n",
       "      <th>5</th>\n",
       "      <td>hero</td>\n",
       "      <td>50846</td>\n",
       "    </tr>\n",
       "    <tr>\n",
       "      <th>6</th>\n",
       "      <td>trophy</td>\n",
       "      <td>52899</td>\n",
       "    </tr>\n",
       "  </tbody>\n",
       "</table>\n",
       "</div>"
      ],
      "text/plain": [
       "        BRANDS  QUANTITY\n",
       "0    beta malt     44903\n",
       "1    budweiser     46566\n",
       "4   grand malt     47166\n",
       "2  castle lite     50341\n",
       "3  eagle lager     50630\n",
       "5         hero     50846\n",
       "6       trophy     52899"
      ]
     },
     "execution_count": 25,
     "metadata": {},
     "output_type": "execute_result"
    }
   ],
   "source": [
    "franco.groupby(['BRANDS'])['QUANTITY'].sum().reset_index().sort_values(by = 'QUANTITY')"
   ]
  },
  {
   "cell_type": "code",
   "execution_count": 29,
   "metadata": {},
   "outputs": [
    {
     "data": {
      "text/plain": [
       "<matplotlib.axes._subplots.AxesSubplot at 0xc3c71d0>"
      ]
     },
     "execution_count": 29,
     "metadata": {},
     "output_type": "execute_result"
    },
    {
     "data": {
      "image/png": "[encoded data removed]",
      "text/plain": [
       "<Figure size 576x396 with 1 Axes>"
      ]
     },
     "metadata": {},
     "output_type": "display_data"
    }
   ],
   "source": [
    "franco.groupby(['BRANDS'])['QUANTITY'].sum().sort_values().plot(kind = 'bar')"
   ]
  },
  {
   "cell_type": "markdown",
   "metadata": {},
   "source": [
    "The top three Brands consumed in the francophone countries are Trophy, Hero and Eagle Lager"
   ]
  },
  {
   "cell_type": "markdown",
   "metadata": {},
   "source": [
    "### 2. Find out the top two choice of consumer brands in Ghana"
   ]
  },
  {
   "cell_type": "code",
   "execution_count": 34,
   "metadata": {},
   "outputs": [
    {
     "data": {
      "text/html": [
       "<div>\n",
       "<style scoped>\n",
       "    .dataframe tbody tr th:only-of-type {\n",
       "        vertical-align: middle;\n",
       "    }\n",
       "\n",
       "    .dataframe tbody tr th {\n",
       "        vertical-align: top;\n",
       "    }\n",
       "\n",
       "    .dataframe thead th {\n",
       "        text-align: right;\n",
       "    }\n",
       "</style>\n",
       "<table border=\"1\" class=\"dataframe\">\n",
       "  <thead>\n",
       "    <tr style=\"text-align: right;\">\n",
       "      <th></th>\n",
       "      <th>BRANDS</th>\n",
       "      <th>QUANTITY</th>\n",
       "    </tr>\n",
       "  </thead>\n",
       "  <tbody>\n",
       "    <tr>\n",
       "      <th>1</th>\n",
       "      <td>budweiser</td>\n",
       "      <td>24419</td>\n",
       "    </tr>\n",
       "    <tr>\n",
       "      <th>0</th>\n",
       "      <td>beta malt</td>\n",
       "      <td>25408</td>\n",
       "    </tr>\n",
       "    <tr>\n",
       "      <th>6</th>\n",
       "      <td>trophy</td>\n",
       "      <td>25524</td>\n",
       "    </tr>\n",
       "    <tr>\n",
       "      <th>4</th>\n",
       "      <td>grand malt</td>\n",
       "      <td>25615</td>\n",
       "    </tr>\n",
       "    <tr>\n",
       "      <th>5</th>\n",
       "      <td>hero</td>\n",
       "      <td>25654</td>\n",
       "    </tr>\n",
       "    <tr>\n",
       "      <th>2</th>\n",
       "      <td>castle lite</td>\n",
       "      <td>25806</td>\n",
       "    </tr>\n",
       "    <tr>\n",
       "      <th>3</th>\n",
       "      <td>eagle lager</td>\n",
       "      <td>25829</td>\n",
       "    </tr>\n",
       "  </tbody>\n",
       "</table>\n",
       "</div>"
      ],
      "text/plain": [
       "        BRANDS  QUANTITY\n",
       "1    budweiser     24419\n",
       "0    beta malt     25408\n",
       "6       trophy     25524\n",
       "4   grand malt     25615\n",
       "5         hero     25654\n",
       "2  castle lite     25806\n",
       "3  eagle lager     25829"
      ]
     },
     "execution_count": 34,
     "metadata": {},
     "output_type": "execute_result"
    }
   ],
   "source": [
    "ghana = data[data['COUNTRIES'] == 'Ghana']\n",
    "ghana.groupby(['BRANDS'])['QUANTITY'].sum().reset_index().sort_values(by = 'QUANTITY')"
   ]
  },
  {
   "cell_type": "markdown",
   "metadata": {},
   "source": [
    "the top two choice of consumer brands in Ghana appears to be Eagle Lager and Castle Lite"
   ]
  },
  {
   "cell_type": "markdown",
   "metadata": {},
   "source": [
    "### 3. Find out the details of beers consumed in the past three years in the most oil reach country in West Africa."
   ]
  },
  {
   "cell_type": "code",
   "execution_count": 3,
   "metadata": {},
   "outputs": [
    {
     "data": {
      "text/plain": [
       "179307"
      ]
     },
     "execution_count": 3,
     "metadata": {},
     "output_type": "execute_result"
    }
   ],
   "source": [
    "nigeria = data[data['COUNTRIES'] == 'Nigeria']\n",
    "nigeria['QUANTITY'].sum()"
   ]
  },
  {
   "cell_type": "markdown",
   "metadata": {},
   "source": [
    "### 4. Favorites malt brand in Anglophone region between 2018 and 2019"
   ]
  },
  {
   "cell_type": "code",
   "execution_count": 37,
   "metadata": {},
   "outputs": [
    {
     "data": {
      "text/html": [
       "<div>\n",
       "<style scoped>\n",
       "    .dataframe tbody tr th:only-of-type {\n",
       "        vertical-align: middle;\n",
       "    }\n",
       "\n",
       "    .dataframe tbody tr th {\n",
       "        vertical-align: top;\n",
       "    }\n",
       "\n",
       "    .dataframe thead th {\n",
       "        text-align: right;\n",
       "    }\n",
       "</style>\n",
       "<table border=\"1\" class=\"dataframe\">\n",
       "  <thead>\n",
       "    <tr style=\"text-align: right;\">\n",
       "      <th></th>\n",
       "      <th>BRANDS</th>\n",
       "      <th>QUANTITY</th>\n",
       "    </tr>\n",
       "  </thead>\n",
       "  <tbody>\n",
       "    <tr>\n",
       "      <th>3</th>\n",
       "      <td>eagle lager</td>\n",
       "      <td>28714</td>\n",
       "    </tr>\n",
       "    <tr>\n",
       "      <th>2</th>\n",
       "      <td>castle lite</td>\n",
       "      <td>30526</td>\n",
       "    </tr>\n",
       "    <tr>\n",
       "      <th>0</th>\n",
       "      <td>beta malt</td>\n",
       "      <td>32118</td>\n",
       "    </tr>\n",
       "    <tr>\n",
       "      <th>1</th>\n",
       "      <td>budweiser</td>\n",
       "      <td>32988</td>\n",
       "    </tr>\n",
       "    <tr>\n",
       "      <th>4</th>\n",
       "      <td>grand malt</td>\n",
       "      <td>33221</td>\n",
       "    </tr>\n",
       "    <tr>\n",
       "      <th>6</th>\n",
       "      <td>trophy</td>\n",
       "      <td>35341</td>\n",
       "    </tr>\n",
       "    <tr>\n",
       "      <th>5</th>\n",
       "      <td>hero</td>\n",
       "      <td>36900</td>\n",
       "    </tr>\n",
       "  </tbody>\n",
       "</table>\n",
       "</div>"
      ],
      "text/plain": [
       "        BRANDS  QUANTITY\n",
       "3  eagle lager     28714\n",
       "2  castle lite     30526\n",
       "0    beta malt     32118\n",
       "1    budweiser     32988\n",
       "4   grand malt     33221\n",
       "6       trophy     35341\n",
       "5         hero     36900"
      ]
     },
     "execution_count": 37,
     "metadata": {},
     "output_type": "execute_result"
    }
   ],
   "source": [
    "anglo = y_1819[y_1819['territories'] == 'anglophone_country']\n",
    "anglo.groupby(['BRANDS'])['QUANTITY'].sum().reset_index().sort_values('QUANTITY')"
   ]
  },
  {
   "cell_type": "markdown",
   "metadata": {},
   "source": [
    "Belta malt appears to be the most favorite malt in the anglophone region"
   ]
  },
  {
   "cell_type": "markdown",
   "metadata": {},
   "source": [
    "### 5 Which brands sold the highest in 2019 in Nigeria?"
   ]
  },
  {
   "cell_type": "code",
   "execution_count": 41,
   "metadata": {},
   "outputs": [
    {
     "data": {
      "text/html": [
       "<div>\n",
       "<style scoped>\n",
       "    .dataframe tbody tr th:only-of-type {\n",
       "        vertical-align: middle;\n",
       "    }\n",
       "\n",
       "    .dataframe tbody tr th {\n",
       "        vertical-align: top;\n",
       "    }\n",
       "\n",
       "    .dataframe thead th {\n",
       "        text-align: right;\n",
       "    }\n",
       "</style>\n",
       "<table border=\"1\" class=\"dataframe\">\n",
       "  <thead>\n",
       "    <tr style=\"text-align: right;\">\n",
       "      <th></th>\n",
       "      <th>BRANDS</th>\n",
       "      <th>QUANTITY</th>\n",
       "    </tr>\n",
       "  </thead>\n",
       "  <tbody>\n",
       "    <tr>\n",
       "      <th>2</th>\n",
       "      <td>castle lite</td>\n",
       "      <td>3388</td>\n",
       "    </tr>\n",
       "    <tr>\n",
       "      <th>1</th>\n",
       "      <td>budweiser</td>\n",
       "      <td>5490</td>\n",
       "    </tr>\n",
       "    <tr>\n",
       "      <th>6</th>\n",
       "      <td>trophy</td>\n",
       "      <td>5803</td>\n",
       "    </tr>\n",
       "    <tr>\n",
       "      <th>4</th>\n",
       "      <td>grand malt</td>\n",
       "      <td>8125</td>\n",
       "    </tr>\n",
       "    <tr>\n",
       "      <th>0</th>\n",
       "      <td>beta malt</td>\n",
       "      <td>8389</td>\n",
       "    </tr>\n",
       "    <tr>\n",
       "      <th>3</th>\n",
       "      <td>eagle lager</td>\n",
       "      <td>8401</td>\n",
       "    </tr>\n",
       "    <tr>\n",
       "      <th>5</th>\n",
       "      <td>hero</td>\n",
       "      <td>9622</td>\n",
       "    </tr>\n",
       "  </tbody>\n",
       "</table>\n",
       "</div>"
      ],
      "text/plain": [
       "        BRANDS  QUANTITY\n",
       "2  castle lite      3388\n",
       "1    budweiser      5490\n",
       "6       trophy      5803\n",
       "4   grand malt      8125\n",
       "0    beta malt      8389\n",
       "3  eagle lager      8401\n",
       "5         hero      9622"
      ]
     },
     "execution_count": 41,
     "metadata": {},
     "output_type": "execute_result"
    }
   ],
   "source": [
    "nig_2019 = nigeria[nigeria['YEARS'] == 2019]\n",
    "nig_2019.groupby(['BRANDS'])['QUANTITY'].sum().reset_index().sort_values('QUANTITY')"
   ]
  },
  {
   "cell_type": "markdown",
   "metadata": {},
   "source": [
    "Hero appears to be brands that sold the highest in 2019 in Nigeria"
   ]
  },
  {
   "cell_type": "markdown",
   "metadata": {},
   "source": [
    "### 6 Favorites brand in South_South region in Nigeria"
   ]
  },
  {
   "cell_type": "code",
   "execution_count": 44,
   "metadata": {},
   "outputs": [
    {
     "data": {
      "text/html": [
       "<div>\n",
       "<style scoped>\n",
       "    .dataframe tbody tr th:only-of-type {\n",
       "        vertical-align: middle;\n",
       "    }\n",
       "\n",
       "    .dataframe tbody tr th {\n",
       "        vertical-align: top;\n",
       "    }\n",
       "\n",
       "    .dataframe thead th {\n",
       "        text-align: right;\n",
       "    }\n",
       "</style>\n",
       "<table border=\"1\" class=\"dataframe\">\n",
       "  <thead>\n",
       "    <tr style=\"text-align: right;\">\n",
       "      <th></th>\n",
       "      <th>BRANDS</th>\n",
       "      <th>QUANTITY</th>\n",
       "    </tr>\n",
       "  </thead>\n",
       "  <tbody>\n",
       "    <tr>\n",
       "      <th>4</th>\n",
       "      <td>grand malt</td>\n",
       "      <td>3914</td>\n",
       "    </tr>\n",
       "    <tr>\n",
       "      <th>0</th>\n",
       "      <td>beta malt</td>\n",
       "      <td>4257</td>\n",
       "    </tr>\n",
       "    <tr>\n",
       "      <th>2</th>\n",
       "      <td>castle lite</td>\n",
       "      <td>4287</td>\n",
       "    </tr>\n",
       "    <tr>\n",
       "      <th>1</th>\n",
       "      <td>budweiser</td>\n",
       "      <td>4328</td>\n",
       "    </tr>\n",
       "    <tr>\n",
       "      <th>5</th>\n",
       "      <td>hero</td>\n",
       "      <td>4456</td>\n",
       "    </tr>\n",
       "    <tr>\n",
       "      <th>6</th>\n",
       "      <td>trophy</td>\n",
       "      <td>4468</td>\n",
       "    </tr>\n",
       "    <tr>\n",
       "      <th>3</th>\n",
       "      <td>eagle lager</td>\n",
       "      <td>4551</td>\n",
       "    </tr>\n",
       "  </tbody>\n",
       "</table>\n",
       "</div>"
      ],
      "text/plain": [
       "        BRANDS  QUANTITY\n",
       "4   grand malt      3914\n",
       "0    beta malt      4257\n",
       "2  castle lite      4287\n",
       "1    budweiser      4328\n",
       "5         hero      4456\n",
       "6       trophy      4468\n",
       "3  eagle lager      4551"
      ]
     },
     "execution_count": 44,
     "metadata": {},
     "output_type": "execute_result"
    }
   ],
   "source": [
    "ss_region = nigeria[nigeria['REGION '] == 'southsouth']\n",
    "ss_region.groupby(['BRANDS'])['QUANTITY'].sum().reset_index().sort_values('QUANTITY')"
   ]
  },
  {
   "cell_type": "markdown",
   "metadata": {},
   "source": [
    "The Favorites brand in South_South region in Nigeria appears to be Eagle Lager"
   ]
  },
  {
   "cell_type": "markdown",
   "metadata": {},
   "source": [
    "### 7 Beer consumption in Nigeria"
   ]
  },
  {
   "cell_type": "code",
   "execution_count": 61,
   "metadata": {},
   "outputs": [
    {
     "data": {
      "text/plain": [
       "639370"
      ]
     },
     "execution_count": 61,
     "metadata": {},
     "output_type": "execute_result"
    }
   ],
   "source": [
    "rm_beta_malt = data.drop(data.index[data['BRANDS'] == 'beta malt'])\n",
    "beer_only = rm_beta_malt.drop(rm_beta_malt.index[rm_beta_malt['BRANDS'] == 'grand malt'])\n",
    "beer_only['QUANTITY'].sum()"
   ]
  },
  {
   "cell_type": "markdown",
   "metadata": {},
   "source": [
    "### 8. Level of consumption of Budweiser in the regions in Nigeria"
   ]
  },
  {
   "cell_type": "code",
   "execution_count": 63,
   "metadata": {},
   "outputs": [
    {
     "data": {
      "text/html": [
       "<div>\n",
       "<style scoped>\n",
       "    .dataframe tbody tr th:only-of-type {\n",
       "        vertical-align: middle;\n",
       "    }\n",
       "\n",
       "    .dataframe tbody tr th {\n",
       "        vertical-align: top;\n",
       "    }\n",
       "\n",
       "    .dataframe thead th {\n",
       "        text-align: right;\n",
       "    }\n",
       "</style>\n",
       "<table border=\"1\" class=\"dataframe\">\n",
       "  <thead>\n",
       "    <tr style=\"text-align: right;\">\n",
       "      <th></th>\n",
       "      <th>REGION</th>\n",
       "      <th>QUANTITY</th>\n",
       "    </tr>\n",
       "  </thead>\n",
       "  <tbody>\n",
       "    <tr>\n",
       "      <th>0</th>\n",
       "      <td>Southeast</td>\n",
       "      <td>4113</td>\n",
       "    </tr>\n",
       "    <tr>\n",
       "      <th>3</th>\n",
       "      <td>northwest</td>\n",
       "      <td>4274</td>\n",
       "    </tr>\n",
       "    <tr>\n",
       "      <th>2</th>\n",
       "      <td>northeast</td>\n",
       "      <td>4320</td>\n",
       "    </tr>\n",
       "    <tr>\n",
       "      <th>4</th>\n",
       "      <td>southsouth</td>\n",
       "      <td>4328</td>\n",
       "    </tr>\n",
       "    <tr>\n",
       "      <th>1</th>\n",
       "      <td>northcentral</td>\n",
       "      <td>4498</td>\n",
       "    </tr>\n",
       "    <tr>\n",
       "      <th>5</th>\n",
       "      <td>west</td>\n",
       "      <td>4620</td>\n",
       "    </tr>\n",
       "  </tbody>\n",
       "</table>\n",
       "</div>"
      ],
      "text/plain": [
       "         REGION   QUANTITY\n",
       "0      Southeast      4113\n",
       "3      northwest      4274\n",
       "2     northeast       4320\n",
       "4     southsouth      4328\n",
       "1  northcentral       4498\n",
       "5           west      4620"
      ]
     },
     "execution_count": 63,
     "metadata": {},
     "output_type": "execute_result"
    }
   ],
   "source": [
    "nig_bud = nigeria[nigeria['BRANDS'] == 'budweiser']\n",
    "nig_bud.groupby(['REGION '])['QUANTITY'].sum().reset_index().sort_values(by = 'QUANTITY')"
   ]
  },
  {
   "cell_type": "markdown",
   "metadata": {},
   "source": [
    "### 9. Level of consumption of Budweiser in the regions in Nigeria in 2019 (Decision on Promo)"
   ]
  },
  {
   "cell_type": "code",
   "execution_count": 62,
   "metadata": {},
   "outputs": [
    {
     "data": {
      "text/html": [
       "<div>\n",
       "<style scoped>\n",
       "    .dataframe tbody tr th:only-of-type {\n",
       "        vertical-align: middle;\n",
       "    }\n",
       "\n",
       "    .dataframe tbody tr th {\n",
       "        vertical-align: top;\n",
       "    }\n",
       "\n",
       "    .dataframe thead th {\n",
       "        text-align: right;\n",
       "    }\n",
       "</style>\n",
       "<table border=\"1\" class=\"dataframe\">\n",
       "  <thead>\n",
       "    <tr style=\"text-align: right;\">\n",
       "      <th></th>\n",
       "      <th>REGION</th>\n",
       "      <th>QUANTITY</th>\n",
       "    </tr>\n",
       "  </thead>\n",
       "  <tbody>\n",
       "    <tr>\n",
       "      <th>3</th>\n",
       "      <td>southsouth</td>\n",
       "      <td>847</td>\n",
       "    </tr>\n",
       "    <tr>\n",
       "      <th>4</th>\n",
       "      <td>west</td>\n",
       "      <td>884</td>\n",
       "    </tr>\n",
       "    <tr>\n",
       "      <th>2</th>\n",
       "      <td>northwest</td>\n",
       "      <td>948</td>\n",
       "    </tr>\n",
       "    <tr>\n",
       "      <th>1</th>\n",
       "      <td>northeast</td>\n",
       "      <td>990</td>\n",
       "    </tr>\n",
       "    <tr>\n",
       "      <th>0</th>\n",
       "      <td>Southeast</td>\n",
       "      <td>1821</td>\n",
       "    </tr>\n",
       "  </tbody>\n",
       "</table>\n",
       "</div>"
      ],
      "text/plain": [
       "      REGION   QUANTITY\n",
       "3  southsouth       847\n",
       "4        west       884\n",
       "2   northwest       948\n",
       "1  northeast        990\n",
       "0   Southeast      1821"
      ]
     },
     "execution_count": 62,
     "metadata": {},
     "output_type": "execute_result"
    }
   ],
   "source": [
    "nig_bud_2019 = nig_2019[nig_2019['BRANDS'] == 'budweiser']\n",
    "nig_bud_2019.groupby(['REGION '])['QUANTITY'].sum().reset_index().sort_values(by = 'QUANTITY')"
   ]
  },
  {
   "cell_type": "markdown",
   "metadata": {},
   "source": [
    "The top region consuming budweiser in Nigeria is the SouthEast"
   ]
  },
  {
   "cell_type": "code",
   "execution_count": null,
   "metadata": {},
   "outputs": [],
   "source": []
  }
 ],
 "metadata": {
  "kernelspec": {
   "display_name": "Python 3",
   "language": "python",
   "name": "python3"
  },
  "language_info": {
   "codemirror_mode": {
    "name": "ipython",
    "version": 3
   },
   "file_extension": ".py",
   "mimetype": "text/x-python",
   "name": "python",
   "nbconvert_exporter": "python",
   "pygments_lexer": "ipython3",
   "version": "3.7.1"
  }
 },
 "nbformat": 4,
 "nbformat_minor": 4
}
